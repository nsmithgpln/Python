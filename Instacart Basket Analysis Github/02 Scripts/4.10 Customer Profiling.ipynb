{
 "cells": [
  {
   "cell_type": "markdown",
   "id": "7090da15",
   "metadata": {},
   "source": [
    "# 4.10 Instacart Final Task\n",
    "\n",
    "## Contents\n",
    "\n",
    "### 1. Import libraries and data\n",
    "### 2. Inspect data\n",
    "#### 2.1 Show column headers and descriptive stats for merged data (active customers only)\n",
    "#### 2.2 Explore departments\n",
    "#### 2.3 Merge departments with orders data\n",
    "### 3. Customer profiling\n",
    "#### 3.1 Create customer profiles - marital status, age, dependents\n",
    "#### 3.2 Distribution of customer profile types\n",
    "##### 3.2.1 Descriptive statistics\n",
    "###### 3.2.1.1 Usage frequency\n",
    "###### 3.2.1.2 Expenditure\n",
    "#### 3.3 Create new profiles - marital status only\n",
    "##### 3.3.1 Explore marital status by region\n",
    "##### 3.3.2 Product choice by marital status\n",
    "##### 3.3.2.1 Explore produce sales by order timing and region\n",
    "### 4. Compare customer profiles and brand loyalty\n",
    "#### 4.1 Loyalty and frequency of ordering\n",
    "#### 4.2 Frequent customer product preferences\n"
   ]
  },
  {
   "cell_type": "markdown",
   "id": "503448bd",
   "metadata": {},
   "source": [
    "# 1. Import libraries and data"
   ]
  },
  {
   "cell_type": "code",
   "execution_count": 1,
   "id": "95a5f517",
   "metadata": {},
   "outputs": [],
   "source": [
    "# import libraries\n",
    "import pandas as pd\n",
    "import numpy as np\n",
    "import os\n",
    "import matplotlib.pyplot as plt\n",
    "import seaborn as sns\n",
    "import scipy"
   ]
  },
  {
   "cell_type": "code",
   "execution_count": 2,
   "id": "4fa30201",
   "metadata": {},
   "outputs": [],
   "source": [
    "# define project folder path\n",
    "path = r'C:\\Users\\nsmith\\OneDrive - Georgia Poultry Laboratory Network\\CareerFoundry\\02 - Data Immersion\\Achievement 4\\12-2024 Instacart Basket Analysis'"
   ]
  },
  {
   "cell_type": "code",
   "execution_count": 3,
   "id": "73b6bc71",
   "metadata": {},
   "outputs": [],
   "source": [
    "# import project data\n",
    "df = pd.read_pickle(os.path.join(path, '02 Data', 'Prepared Data', 'completed_data_active_customers.pkl'))"
   ]
  },
  {
   "cell_type": "code",
   "execution_count": 4,
   "id": "9da9427a",
   "metadata": {},
   "outputs": [],
   "source": [
    "# import project data\n",
    "departments = pd.read_csv(os.path.join(path, '02 Data', 'Original Data', 'departments.csv'))"
   ]
  },
  {
   "cell_type": "markdown",
   "id": "a7274ccf",
   "metadata": {},
   "source": [
    "   # 2. Inspect data"
   ]
  },
  {
   "cell_type": "markdown",
   "id": "ac89b76a",
   "metadata": {},
   "source": [
    "### Inspect merged data containing order, product, and customer information, filtered to active customers only"
   ]
  },
  {
   "cell_type": "code",
   "execution_count": 5,
   "id": "e2c342f6",
   "metadata": {},
   "outputs": [
    {
     "data": {
      "text/plain": [
       "(30964564, 34)"
      ]
     },
     "execution_count": 5,
     "metadata": {},
     "output_type": "execute_result"
    }
   ],
   "source": [
    "# view row count\n",
    "df.shape"
   ]
  },
  {
   "cell_type": "code",
   "execution_count": 6,
   "id": "f6707a9b",
   "metadata": {},
   "outputs": [
    {
     "data": {
      "text/plain": [
       "Index(['order_id', 'user_id', 'order_number', 'order_day_of_week',\n",
       "       'order_hour_of_day', 'days_since_prior_order', 'first_order',\n",
       "       'product_id', 'add_to_cart_order', 'reordered', 'product_name',\n",
       "       'aisle_id', 'department_id', 'prices', 'price_range_loc', 'busiest_day',\n",
       "       'busiest_days', 'busiest_period_of_day', 'max_order', 'loyalty_flag',\n",
       "       'spending', 'spending_flag', 'frequency', 'frequency_flag', 'gender',\n",
       "       'state', 'age', 'date_joined', 'n_dependants', 'fam_status', 'income',\n",
       "       'region', '_merge', 'activity_flag'],\n",
       "      dtype='object')"
      ]
     },
     "execution_count": 6,
     "metadata": {},
     "output_type": "execute_result"
    }
   ],
   "source": [
    "# show columns in table\n",
    "df.columns"
   ]
  },
  {
   "cell_type": "code",
   "execution_count": 7,
   "id": "739888bb",
   "metadata": {},
   "outputs": [
    {
     "data": {
      "text/html": [
       "<div>\n",
       "<style scoped>\n",
       "    .dataframe tbody tr th:only-of-type {\n",
       "        vertical-align: middle;\n",
       "    }\n",
       "\n",
       "    .dataframe tbody tr th {\n",
       "        vertical-align: top;\n",
       "    }\n",
       "\n",
       "    .dataframe thead th {\n",
       "        text-align: right;\n",
       "    }\n",
       "</style>\n",
       "<table border=\"1\" class=\"dataframe\">\n",
       "  <thead>\n",
       "    <tr style=\"text-align: right;\">\n",
       "      <th></th>\n",
       "      <th>order_id</th>\n",
       "      <th>user_id</th>\n",
       "      <th>order_number</th>\n",
       "      <th>order_day_of_week</th>\n",
       "      <th>order_hour_of_day</th>\n",
       "      <th>days_since_prior_order</th>\n",
       "      <th>first_order</th>\n",
       "      <th>product_id</th>\n",
       "      <th>add_to_cart_order</th>\n",
       "      <th>reordered</th>\n",
       "      <th>...</th>\n",
       "      <th>gender</th>\n",
       "      <th>state</th>\n",
       "      <th>age</th>\n",
       "      <th>date_joined</th>\n",
       "      <th>n_dependants</th>\n",
       "      <th>fam_status</th>\n",
       "      <th>income</th>\n",
       "      <th>region</th>\n",
       "      <th>_merge</th>\n",
       "      <th>activity_flag</th>\n",
       "    </tr>\n",
       "  </thead>\n",
       "  <tbody>\n",
       "    <tr>\n",
       "      <th>0</th>\n",
       "      <td>2539329</td>\n",
       "      <td>1</td>\n",
       "      <td>1</td>\n",
       "      <td>2</td>\n",
       "      <td>8</td>\n",
       "      <td>NaN</td>\n",
       "      <td>True</td>\n",
       "      <td>196</td>\n",
       "      <td>1</td>\n",
       "      <td>0</td>\n",
       "      <td>...</td>\n",
       "      <td>Female</td>\n",
       "      <td>Alabama</td>\n",
       "      <td>31</td>\n",
       "      <td>2/17/2019</td>\n",
       "      <td>3</td>\n",
       "      <td>married</td>\n",
       "      <td>40423</td>\n",
       "      <td>Region 3 (South)</td>\n",
       "      <td>both</td>\n",
       "      <td>Active</td>\n",
       "    </tr>\n",
       "    <tr>\n",
       "      <th>1</th>\n",
       "      <td>2398795</td>\n",
       "      <td>1</td>\n",
       "      <td>2</td>\n",
       "      <td>3</td>\n",
       "      <td>7</td>\n",
       "      <td>15.0</td>\n",
       "      <td>False</td>\n",
       "      <td>196</td>\n",
       "      <td>1</td>\n",
       "      <td>1</td>\n",
       "      <td>...</td>\n",
       "      <td>Female</td>\n",
       "      <td>Alabama</td>\n",
       "      <td>31</td>\n",
       "      <td>2/17/2019</td>\n",
       "      <td>3</td>\n",
       "      <td>married</td>\n",
       "      <td>40423</td>\n",
       "      <td>Region 3 (South)</td>\n",
       "      <td>both</td>\n",
       "      <td>Active</td>\n",
       "    </tr>\n",
       "    <tr>\n",
       "      <th>2</th>\n",
       "      <td>473747</td>\n",
       "      <td>1</td>\n",
       "      <td>3</td>\n",
       "      <td>3</td>\n",
       "      <td>12</td>\n",
       "      <td>21.0</td>\n",
       "      <td>False</td>\n",
       "      <td>196</td>\n",
       "      <td>1</td>\n",
       "      <td>1</td>\n",
       "      <td>...</td>\n",
       "      <td>Female</td>\n",
       "      <td>Alabama</td>\n",
       "      <td>31</td>\n",
       "      <td>2/17/2019</td>\n",
       "      <td>3</td>\n",
       "      <td>married</td>\n",
       "      <td>40423</td>\n",
       "      <td>Region 3 (South)</td>\n",
       "      <td>both</td>\n",
       "      <td>Active</td>\n",
       "    </tr>\n",
       "    <tr>\n",
       "      <th>3</th>\n",
       "      <td>2254736</td>\n",
       "      <td>1</td>\n",
       "      <td>4</td>\n",
       "      <td>4</td>\n",
       "      <td>7</td>\n",
       "      <td>29.0</td>\n",
       "      <td>False</td>\n",
       "      <td>196</td>\n",
       "      <td>1</td>\n",
       "      <td>1</td>\n",
       "      <td>...</td>\n",
       "      <td>Female</td>\n",
       "      <td>Alabama</td>\n",
       "      <td>31</td>\n",
       "      <td>2/17/2019</td>\n",
       "      <td>3</td>\n",
       "      <td>married</td>\n",
       "      <td>40423</td>\n",
       "      <td>Region 3 (South)</td>\n",
       "      <td>both</td>\n",
       "      <td>Active</td>\n",
       "    </tr>\n",
       "    <tr>\n",
       "      <th>4</th>\n",
       "      <td>431534</td>\n",
       "      <td>1</td>\n",
       "      <td>5</td>\n",
       "      <td>4</td>\n",
       "      <td>15</td>\n",
       "      <td>28.0</td>\n",
       "      <td>False</td>\n",
       "      <td>196</td>\n",
       "      <td>1</td>\n",
       "      <td>1</td>\n",
       "      <td>...</td>\n",
       "      <td>Female</td>\n",
       "      <td>Alabama</td>\n",
       "      <td>31</td>\n",
       "      <td>2/17/2019</td>\n",
       "      <td>3</td>\n",
       "      <td>married</td>\n",
       "      <td>40423</td>\n",
       "      <td>Region 3 (South)</td>\n",
       "      <td>both</td>\n",
       "      <td>Active</td>\n",
       "    </tr>\n",
       "    <tr>\n",
       "      <th>5</th>\n",
       "      <td>3367565</td>\n",
       "      <td>1</td>\n",
       "      <td>6</td>\n",
       "      <td>2</td>\n",
       "      <td>7</td>\n",
       "      <td>19.0</td>\n",
       "      <td>False</td>\n",
       "      <td>196</td>\n",
       "      <td>1</td>\n",
       "      <td>1</td>\n",
       "      <td>...</td>\n",
       "      <td>Female</td>\n",
       "      <td>Alabama</td>\n",
       "      <td>31</td>\n",
       "      <td>2/17/2019</td>\n",
       "      <td>3</td>\n",
       "      <td>married</td>\n",
       "      <td>40423</td>\n",
       "      <td>Region 3 (South)</td>\n",
       "      <td>both</td>\n",
       "      <td>Active</td>\n",
       "    </tr>\n",
       "    <tr>\n",
       "      <th>6</th>\n",
       "      <td>550135</td>\n",
       "      <td>1</td>\n",
       "      <td>7</td>\n",
       "      <td>1</td>\n",
       "      <td>9</td>\n",
       "      <td>20.0</td>\n",
       "      <td>False</td>\n",
       "      <td>196</td>\n",
       "      <td>1</td>\n",
       "      <td>1</td>\n",
       "      <td>...</td>\n",
       "      <td>Female</td>\n",
       "      <td>Alabama</td>\n",
       "      <td>31</td>\n",
       "      <td>2/17/2019</td>\n",
       "      <td>3</td>\n",
       "      <td>married</td>\n",
       "      <td>40423</td>\n",
       "      <td>Region 3 (South)</td>\n",
       "      <td>both</td>\n",
       "      <td>Active</td>\n",
       "    </tr>\n",
       "    <tr>\n",
       "      <th>7</th>\n",
       "      <td>3108588</td>\n",
       "      <td>1</td>\n",
       "      <td>8</td>\n",
       "      <td>1</td>\n",
       "      <td>14</td>\n",
       "      <td>14.0</td>\n",
       "      <td>False</td>\n",
       "      <td>196</td>\n",
       "      <td>2</td>\n",
       "      <td>1</td>\n",
       "      <td>...</td>\n",
       "      <td>Female</td>\n",
       "      <td>Alabama</td>\n",
       "      <td>31</td>\n",
       "      <td>2/17/2019</td>\n",
       "      <td>3</td>\n",
       "      <td>married</td>\n",
       "      <td>40423</td>\n",
       "      <td>Region 3 (South)</td>\n",
       "      <td>both</td>\n",
       "      <td>Active</td>\n",
       "    </tr>\n",
       "    <tr>\n",
       "      <th>8</th>\n",
       "      <td>2295261</td>\n",
       "      <td>1</td>\n",
       "      <td>9</td>\n",
       "      <td>1</td>\n",
       "      <td>16</td>\n",
       "      <td>0.0</td>\n",
       "      <td>False</td>\n",
       "      <td>196</td>\n",
       "      <td>4</td>\n",
       "      <td>1</td>\n",
       "      <td>...</td>\n",
       "      <td>Female</td>\n",
       "      <td>Alabama</td>\n",
       "      <td>31</td>\n",
       "      <td>2/17/2019</td>\n",
       "      <td>3</td>\n",
       "      <td>married</td>\n",
       "      <td>40423</td>\n",
       "      <td>Region 3 (South)</td>\n",
       "      <td>both</td>\n",
       "      <td>Active</td>\n",
       "    </tr>\n",
       "    <tr>\n",
       "      <th>9</th>\n",
       "      <td>2550362</td>\n",
       "      <td>1</td>\n",
       "      <td>10</td>\n",
       "      <td>4</td>\n",
       "      <td>8</td>\n",
       "      <td>30.0</td>\n",
       "      <td>False</td>\n",
       "      <td>196</td>\n",
       "      <td>1</td>\n",
       "      <td>1</td>\n",
       "      <td>...</td>\n",
       "      <td>Female</td>\n",
       "      <td>Alabama</td>\n",
       "      <td>31</td>\n",
       "      <td>2/17/2019</td>\n",
       "      <td>3</td>\n",
       "      <td>married</td>\n",
       "      <td>40423</td>\n",
       "      <td>Region 3 (South)</td>\n",
       "      <td>both</td>\n",
       "      <td>Active</td>\n",
       "    </tr>\n",
       "  </tbody>\n",
       "</table>\n",
       "<p>10 rows × 34 columns</p>\n",
       "</div>"
      ],
      "text/plain": [
       "   order_id user_id  order_number  order_day_of_week  order_hour_of_day  \\\n",
       "0   2539329       1             1                  2                  8   \n",
       "1   2398795       1             2                  3                  7   \n",
       "2    473747       1             3                  3                 12   \n",
       "3   2254736       1             4                  4                  7   \n",
       "4    431534       1             5                  4                 15   \n",
       "5   3367565       1             6                  2                  7   \n",
       "6    550135       1             7                  1                  9   \n",
       "7   3108588       1             8                  1                 14   \n",
       "8   2295261       1             9                  1                 16   \n",
       "9   2550362       1            10                  4                  8   \n",
       "\n",
       "   days_since_prior_order  first_order  product_id  add_to_cart_order  \\\n",
       "0                     NaN         True         196                  1   \n",
       "1                    15.0        False         196                  1   \n",
       "2                    21.0        False         196                  1   \n",
       "3                    29.0        False         196                  1   \n",
       "4                    28.0        False         196                  1   \n",
       "5                    19.0        False         196                  1   \n",
       "6                    20.0        False         196                  1   \n",
       "7                    14.0        False         196                  2   \n",
       "8                     0.0        False         196                  4   \n",
       "9                    30.0        False         196                  1   \n",
       "\n",
       "   reordered  ...  gender    state  age  date_joined n_dependants fam_status  \\\n",
       "0          0  ...  Female  Alabama   31    2/17/2019            3    married   \n",
       "1          1  ...  Female  Alabama   31    2/17/2019            3    married   \n",
       "2          1  ...  Female  Alabama   31    2/17/2019            3    married   \n",
       "3          1  ...  Female  Alabama   31    2/17/2019            3    married   \n",
       "4          1  ...  Female  Alabama   31    2/17/2019            3    married   \n",
       "5          1  ...  Female  Alabama   31    2/17/2019            3    married   \n",
       "6          1  ...  Female  Alabama   31    2/17/2019            3    married   \n",
       "7          1  ...  Female  Alabama   31    2/17/2019            3    married   \n",
       "8          1  ...  Female  Alabama   31    2/17/2019            3    married   \n",
       "9          1  ...  Female  Alabama   31    2/17/2019            3    married   \n",
       "\n",
       "  income            region  _merge activity_flag  \n",
       "0  40423  Region 3 (South)    both        Active  \n",
       "1  40423  Region 3 (South)    both        Active  \n",
       "2  40423  Region 3 (South)    both        Active  \n",
       "3  40423  Region 3 (South)    both        Active  \n",
       "4  40423  Region 3 (South)    both        Active  \n",
       "5  40423  Region 3 (South)    both        Active  \n",
       "6  40423  Region 3 (South)    both        Active  \n",
       "7  40423  Region 3 (South)    both        Active  \n",
       "8  40423  Region 3 (South)    both        Active  \n",
       "9  40423  Region 3 (South)    both        Active  \n",
       "\n",
       "[10 rows x 34 columns]"
      ]
     },
     "execution_count": 7,
     "metadata": {},
     "output_type": "execute_result"
    }
   ],
   "source": [
    "# view first 10 rows\n",
    "df.head(10)"
   ]
  },
  {
   "cell_type": "code",
   "execution_count": 8,
   "id": "b04c4484",
   "metadata": {},
   "outputs": [
    {
     "data": {
      "text/plain": [
       "count    3.095969e+07\n",
       "mean     7.790590e+00\n",
       "std      4.240595e+00\n",
       "min      1.000000e+00\n",
       "25%      4.200000e+00\n",
       "50%      7.400000e+00\n",
       "75%      1.130000e+01\n",
       "max      2.500000e+01\n",
       "Name: prices, dtype: float64"
      ]
     },
     "execution_count": 8,
     "metadata": {},
     "output_type": "execute_result"
    }
   ],
   "source": [
    "# describe dataset\n",
    "df['prices'].describe()"
   ]
  },
  {
   "cell_type": "code",
   "execution_count": 9,
   "id": "88dd0f5f",
   "metadata": {},
   "outputs": [
    {
     "data": {
      "text/plain": [
       "7.790590247246368"
      ]
     },
     "execution_count": 9,
     "metadata": {},
     "output_type": "execute_result"
    }
   ],
   "source": [
    "# view the mean\n",
    "df['prices'].mean()"
   ]
  },
  {
   "cell_type": "code",
   "execution_count": 10,
   "id": "4ace4923",
   "metadata": {},
   "outputs": [
    {
     "data": {
      "text/plain": [
       "7.4"
      ]
     },
     "execution_count": 10,
     "metadata": {},
     "output_type": "execute_result"
    }
   ],
   "source": [
    "# view the median\n",
    "df['prices'].median()"
   ]
  },
  {
   "cell_type": "code",
   "execution_count": 11,
   "id": "ac56628b",
   "metadata": {},
   "outputs": [
    {
     "data": {
      "text/plain": [
       "25.0"
      ]
     },
     "execution_count": 11,
     "metadata": {},
     "output_type": "execute_result"
    }
   ],
   "source": [
    "# view the max\n",
    "df['prices'].max()"
   ]
  },
  {
   "cell_type": "code",
   "execution_count": 12,
   "id": "f4872bb3",
   "metadata": {},
   "outputs": [
    {
     "data": {
      "text/plain": [
       "dtype('O')"
      ]
     },
     "execution_count": 12,
     "metadata": {},
     "output_type": "execute_result"
    }
   ],
   "source": [
    "# view data type of state column\n",
    "df['state'].dtype"
   ]
  },
  {
   "cell_type": "markdown",
   "id": "68c23bea",
   "metadata": {},
   "source": [
    "### Explore departments data"
   ]
  },
  {
   "cell_type": "code",
   "execution_count": 13,
   "id": "21fb5acd",
   "metadata": {
    "scrolled": false
   },
   "outputs": [
    {
     "data": {
      "text/plain": [
       "Index(['department_id', '1', '2', '3', '4', '5', '6', '7', '8', '9', '10',\n",
       "       '11', '12', '13', '14', '15', '16', '17', '18', '19', '20', '21'],\n",
       "      dtype='object')"
      ]
     },
     "execution_count": 13,
     "metadata": {},
     "output_type": "execute_result"
    }
   ],
   "source": [
    "# view department IDs\n",
    "departments.columns"
   ]
  },
  {
   "cell_type": "code",
   "execution_count": 14,
   "id": "995de454",
   "metadata": {},
   "outputs": [],
   "source": [
    "# Transpose and reset index\n",
    "dept_transposed = departments.T.reset_index()\n",
    "dept_transposed.columns = ['department_id', 'department_name']\n",
    "dept_transposed = dept_transposed.iloc[1:].reset_index(drop=True)"
   ]
  },
  {
   "cell_type": "code",
   "execution_count": 15,
   "id": "68f21c56",
   "metadata": {
    "scrolled": false
   },
   "outputs": [
    {
     "data": {
      "text/html": [
       "<div>\n",
       "<style scoped>\n",
       "    .dataframe tbody tr th:only-of-type {\n",
       "        vertical-align: middle;\n",
       "    }\n",
       "\n",
       "    .dataframe tbody tr th {\n",
       "        vertical-align: top;\n",
       "    }\n",
       "\n",
       "    .dataframe thead th {\n",
       "        text-align: right;\n",
       "    }\n",
       "</style>\n",
       "<table border=\"1\" class=\"dataframe\">\n",
       "  <thead>\n",
       "    <tr style=\"text-align: right;\">\n",
       "      <th></th>\n",
       "      <th>department_id</th>\n",
       "      <th>department_name</th>\n",
       "    </tr>\n",
       "  </thead>\n",
       "  <tbody>\n",
       "    <tr>\n",
       "      <th>0</th>\n",
       "      <td>1</td>\n",
       "      <td>frozen</td>\n",
       "    </tr>\n",
       "    <tr>\n",
       "      <th>1</th>\n",
       "      <td>2</td>\n",
       "      <td>other</td>\n",
       "    </tr>\n",
       "    <tr>\n",
       "      <th>2</th>\n",
       "      <td>3</td>\n",
       "      <td>bakery</td>\n",
       "    </tr>\n",
       "    <tr>\n",
       "      <th>3</th>\n",
       "      <td>4</td>\n",
       "      <td>produce</td>\n",
       "    </tr>\n",
       "    <tr>\n",
       "      <th>4</th>\n",
       "      <td>5</td>\n",
       "      <td>alcohol</td>\n",
       "    </tr>\n",
       "  </tbody>\n",
       "</table>\n",
       "</div>"
      ],
      "text/plain": [
       "  department_id department_name\n",
       "0             1          frozen\n",
       "1             2           other\n",
       "2             3          bakery\n",
       "3             4         produce\n",
       "4             5         alcohol"
      ]
     },
     "execution_count": 15,
     "metadata": {},
     "output_type": "execute_result"
    }
   ],
   "source": [
    "# view sample of table rows\n",
    "dept_transposed.head()"
   ]
  },
  {
   "cell_type": "markdown",
   "id": "8db76335",
   "metadata": {},
   "source": [
    "### Merge departments with orders data"
   ]
  },
  {
   "cell_type": "code",
   "execution_count": 16,
   "id": "dbb55016",
   "metadata": {},
   "outputs": [],
   "source": [
    "# Ensure department ID column is same data type in both tables\n",
    "df['department_id'] = df['department_id'].astype(int)\n",
    "dept_transposed['department_id'] = dept_transposed['department_id'].astype(int)"
   ]
  },
  {
   "cell_type": "code",
   "execution_count": 17,
   "id": "a205ee54",
   "metadata": {},
   "outputs": [],
   "source": [
    "# Perform the join on 'department_id'\n",
    "df = df.merge(dept_transposed, on='department_id')"
   ]
  },
  {
   "cell_type": "code",
   "execution_count": 18,
   "id": "7c0163b0",
   "metadata": {
    "scrolled": false
   },
   "outputs": [
    {
     "data": {
      "text/html": [
       "<div>\n",
       "<style scoped>\n",
       "    .dataframe tbody tr th:only-of-type {\n",
       "        vertical-align: middle;\n",
       "    }\n",
       "\n",
       "    .dataframe tbody tr th {\n",
       "        vertical-align: top;\n",
       "    }\n",
       "\n",
       "    .dataframe thead th {\n",
       "        text-align: right;\n",
       "    }\n",
       "</style>\n",
       "<table border=\"1\" class=\"dataframe\">\n",
       "  <thead>\n",
       "    <tr style=\"text-align: right;\">\n",
       "      <th></th>\n",
       "      <th>order_id</th>\n",
       "      <th>user_id</th>\n",
       "      <th>order_number</th>\n",
       "      <th>order_day_of_week</th>\n",
       "      <th>order_hour_of_day</th>\n",
       "      <th>days_since_prior_order</th>\n",
       "      <th>first_order</th>\n",
       "      <th>product_id</th>\n",
       "      <th>add_to_cart_order</th>\n",
       "      <th>reordered</th>\n",
       "      <th>...</th>\n",
       "      <th>state</th>\n",
       "      <th>age</th>\n",
       "      <th>date_joined</th>\n",
       "      <th>n_dependants</th>\n",
       "      <th>fam_status</th>\n",
       "      <th>income</th>\n",
       "      <th>region</th>\n",
       "      <th>_merge</th>\n",
       "      <th>activity_flag</th>\n",
       "      <th>department_name</th>\n",
       "    </tr>\n",
       "  </thead>\n",
       "  <tbody>\n",
       "    <tr>\n",
       "      <th>0</th>\n",
       "      <td>2539329</td>\n",
       "      <td>1</td>\n",
       "      <td>1</td>\n",
       "      <td>2</td>\n",
       "      <td>8</td>\n",
       "      <td>NaN</td>\n",
       "      <td>True</td>\n",
       "      <td>196</td>\n",
       "      <td>1</td>\n",
       "      <td>0</td>\n",
       "      <td>...</td>\n",
       "      <td>Alabama</td>\n",
       "      <td>31</td>\n",
       "      <td>2/17/2019</td>\n",
       "      <td>3</td>\n",
       "      <td>married</td>\n",
       "      <td>40423</td>\n",
       "      <td>Region 3 (South)</td>\n",
       "      <td>both</td>\n",
       "      <td>Active</td>\n",
       "      <td>beverages</td>\n",
       "    </tr>\n",
       "    <tr>\n",
       "      <th>1</th>\n",
       "      <td>2398795</td>\n",
       "      <td>1</td>\n",
       "      <td>2</td>\n",
       "      <td>3</td>\n",
       "      <td>7</td>\n",
       "      <td>15.0</td>\n",
       "      <td>False</td>\n",
       "      <td>196</td>\n",
       "      <td>1</td>\n",
       "      <td>1</td>\n",
       "      <td>...</td>\n",
       "      <td>Alabama</td>\n",
       "      <td>31</td>\n",
       "      <td>2/17/2019</td>\n",
       "      <td>3</td>\n",
       "      <td>married</td>\n",
       "      <td>40423</td>\n",
       "      <td>Region 3 (South)</td>\n",
       "      <td>both</td>\n",
       "      <td>Active</td>\n",
       "      <td>beverages</td>\n",
       "    </tr>\n",
       "    <tr>\n",
       "      <th>2</th>\n",
       "      <td>473747</td>\n",
       "      <td>1</td>\n",
       "      <td>3</td>\n",
       "      <td>3</td>\n",
       "      <td>12</td>\n",
       "      <td>21.0</td>\n",
       "      <td>False</td>\n",
       "      <td>196</td>\n",
       "      <td>1</td>\n",
       "      <td>1</td>\n",
       "      <td>...</td>\n",
       "      <td>Alabama</td>\n",
       "      <td>31</td>\n",
       "      <td>2/17/2019</td>\n",
       "      <td>3</td>\n",
       "      <td>married</td>\n",
       "      <td>40423</td>\n",
       "      <td>Region 3 (South)</td>\n",
       "      <td>both</td>\n",
       "      <td>Active</td>\n",
       "      <td>beverages</td>\n",
       "    </tr>\n",
       "    <tr>\n",
       "      <th>3</th>\n",
       "      <td>2254736</td>\n",
       "      <td>1</td>\n",
       "      <td>4</td>\n",
       "      <td>4</td>\n",
       "      <td>7</td>\n",
       "      <td>29.0</td>\n",
       "      <td>False</td>\n",
       "      <td>196</td>\n",
       "      <td>1</td>\n",
       "      <td>1</td>\n",
       "      <td>...</td>\n",
       "      <td>Alabama</td>\n",
       "      <td>31</td>\n",
       "      <td>2/17/2019</td>\n",
       "      <td>3</td>\n",
       "      <td>married</td>\n",
       "      <td>40423</td>\n",
       "      <td>Region 3 (South)</td>\n",
       "      <td>both</td>\n",
       "      <td>Active</td>\n",
       "      <td>beverages</td>\n",
       "    </tr>\n",
       "    <tr>\n",
       "      <th>4</th>\n",
       "      <td>431534</td>\n",
       "      <td>1</td>\n",
       "      <td>5</td>\n",
       "      <td>4</td>\n",
       "      <td>15</td>\n",
       "      <td>28.0</td>\n",
       "      <td>False</td>\n",
       "      <td>196</td>\n",
       "      <td>1</td>\n",
       "      <td>1</td>\n",
       "      <td>...</td>\n",
       "      <td>Alabama</td>\n",
       "      <td>31</td>\n",
       "      <td>2/17/2019</td>\n",
       "      <td>3</td>\n",
       "      <td>married</td>\n",
       "      <td>40423</td>\n",
       "      <td>Region 3 (South)</td>\n",
       "      <td>both</td>\n",
       "      <td>Active</td>\n",
       "      <td>beverages</td>\n",
       "    </tr>\n",
       "    <tr>\n",
       "      <th>5</th>\n",
       "      <td>3367565</td>\n",
       "      <td>1</td>\n",
       "      <td>6</td>\n",
       "      <td>2</td>\n",
       "      <td>7</td>\n",
       "      <td>19.0</td>\n",
       "      <td>False</td>\n",
       "      <td>196</td>\n",
       "      <td>1</td>\n",
       "      <td>1</td>\n",
       "      <td>...</td>\n",
       "      <td>Alabama</td>\n",
       "      <td>31</td>\n",
       "      <td>2/17/2019</td>\n",
       "      <td>3</td>\n",
       "      <td>married</td>\n",
       "      <td>40423</td>\n",
       "      <td>Region 3 (South)</td>\n",
       "      <td>both</td>\n",
       "      <td>Active</td>\n",
       "      <td>beverages</td>\n",
       "    </tr>\n",
       "    <tr>\n",
       "      <th>6</th>\n",
       "      <td>550135</td>\n",
       "      <td>1</td>\n",
       "      <td>7</td>\n",
       "      <td>1</td>\n",
       "      <td>9</td>\n",
       "      <td>20.0</td>\n",
       "      <td>False</td>\n",
       "      <td>196</td>\n",
       "      <td>1</td>\n",
       "      <td>1</td>\n",
       "      <td>...</td>\n",
       "      <td>Alabama</td>\n",
       "      <td>31</td>\n",
       "      <td>2/17/2019</td>\n",
       "      <td>3</td>\n",
       "      <td>married</td>\n",
       "      <td>40423</td>\n",
       "      <td>Region 3 (South)</td>\n",
       "      <td>both</td>\n",
       "      <td>Active</td>\n",
       "      <td>beverages</td>\n",
       "    </tr>\n",
       "    <tr>\n",
       "      <th>7</th>\n",
       "      <td>3108588</td>\n",
       "      <td>1</td>\n",
       "      <td>8</td>\n",
       "      <td>1</td>\n",
       "      <td>14</td>\n",
       "      <td>14.0</td>\n",
       "      <td>False</td>\n",
       "      <td>196</td>\n",
       "      <td>2</td>\n",
       "      <td>1</td>\n",
       "      <td>...</td>\n",
       "      <td>Alabama</td>\n",
       "      <td>31</td>\n",
       "      <td>2/17/2019</td>\n",
       "      <td>3</td>\n",
       "      <td>married</td>\n",
       "      <td>40423</td>\n",
       "      <td>Region 3 (South)</td>\n",
       "      <td>both</td>\n",
       "      <td>Active</td>\n",
       "      <td>beverages</td>\n",
       "    </tr>\n",
       "    <tr>\n",
       "      <th>8</th>\n",
       "      <td>2295261</td>\n",
       "      <td>1</td>\n",
       "      <td>9</td>\n",
       "      <td>1</td>\n",
       "      <td>16</td>\n",
       "      <td>0.0</td>\n",
       "      <td>False</td>\n",
       "      <td>196</td>\n",
       "      <td>4</td>\n",
       "      <td>1</td>\n",
       "      <td>...</td>\n",
       "      <td>Alabama</td>\n",
       "      <td>31</td>\n",
       "      <td>2/17/2019</td>\n",
       "      <td>3</td>\n",
       "      <td>married</td>\n",
       "      <td>40423</td>\n",
       "      <td>Region 3 (South)</td>\n",
       "      <td>both</td>\n",
       "      <td>Active</td>\n",
       "      <td>beverages</td>\n",
       "    </tr>\n",
       "    <tr>\n",
       "      <th>9</th>\n",
       "      <td>2550362</td>\n",
       "      <td>1</td>\n",
       "      <td>10</td>\n",
       "      <td>4</td>\n",
       "      <td>8</td>\n",
       "      <td>30.0</td>\n",
       "      <td>False</td>\n",
       "      <td>196</td>\n",
       "      <td>1</td>\n",
       "      <td>1</td>\n",
       "      <td>...</td>\n",
       "      <td>Alabama</td>\n",
       "      <td>31</td>\n",
       "      <td>2/17/2019</td>\n",
       "      <td>3</td>\n",
       "      <td>married</td>\n",
       "      <td>40423</td>\n",
       "      <td>Region 3 (South)</td>\n",
       "      <td>both</td>\n",
       "      <td>Active</td>\n",
       "      <td>beverages</td>\n",
       "    </tr>\n",
       "  </tbody>\n",
       "</table>\n",
       "<p>10 rows × 35 columns</p>\n",
       "</div>"
      ],
      "text/plain": [
       "   order_id user_id  order_number  order_day_of_week  order_hour_of_day  \\\n",
       "0   2539329       1             1                  2                  8   \n",
       "1   2398795       1             2                  3                  7   \n",
       "2    473747       1             3                  3                 12   \n",
       "3   2254736       1             4                  4                  7   \n",
       "4    431534       1             5                  4                 15   \n",
       "5   3367565       1             6                  2                  7   \n",
       "6    550135       1             7                  1                  9   \n",
       "7   3108588       1             8                  1                 14   \n",
       "8   2295261       1             9                  1                 16   \n",
       "9   2550362       1            10                  4                  8   \n",
       "\n",
       "   days_since_prior_order  first_order  product_id  add_to_cart_order  \\\n",
       "0                     NaN         True         196                  1   \n",
       "1                    15.0        False         196                  1   \n",
       "2                    21.0        False         196                  1   \n",
       "3                    29.0        False         196                  1   \n",
       "4                    28.0        False         196                  1   \n",
       "5                    19.0        False         196                  1   \n",
       "6                    20.0        False         196                  1   \n",
       "7                    14.0        False         196                  2   \n",
       "8                     0.0        False         196                  4   \n",
       "9                    30.0        False         196                  1   \n",
       "\n",
       "   reordered  ...    state  age  date_joined  n_dependants fam_status income  \\\n",
       "0          0  ...  Alabama   31    2/17/2019             3    married  40423   \n",
       "1          1  ...  Alabama   31    2/17/2019             3    married  40423   \n",
       "2          1  ...  Alabama   31    2/17/2019             3    married  40423   \n",
       "3          1  ...  Alabama   31    2/17/2019             3    married  40423   \n",
       "4          1  ...  Alabama   31    2/17/2019             3    married  40423   \n",
       "5          1  ...  Alabama   31    2/17/2019             3    married  40423   \n",
       "6          1  ...  Alabama   31    2/17/2019             3    married  40423   \n",
       "7          1  ...  Alabama   31    2/17/2019             3    married  40423   \n",
       "8          1  ...  Alabama   31    2/17/2019             3    married  40423   \n",
       "9          1  ...  Alabama   31    2/17/2019             3    married  40423   \n",
       "\n",
       "             region _merge  activity_flag department_name  \n",
       "0  Region 3 (South)   both         Active       beverages  \n",
       "1  Region 3 (South)   both         Active       beverages  \n",
       "2  Region 3 (South)   both         Active       beverages  \n",
       "3  Region 3 (South)   both         Active       beverages  \n",
       "4  Region 3 (South)   both         Active       beverages  \n",
       "5  Region 3 (South)   both         Active       beverages  \n",
       "6  Region 3 (South)   both         Active       beverages  \n",
       "7  Region 3 (South)   both         Active       beverages  \n",
       "8  Region 3 (South)   both         Active       beverages  \n",
       "9  Region 3 (South)   both         Active       beverages  \n",
       "\n",
       "[10 rows x 35 columns]"
      ]
     },
     "execution_count": 18,
     "metadata": {},
     "output_type": "execute_result"
    }
   ],
   "source": [
    "# view sample of rows\n",
    "df.head(10)"
   ]
  },
  {
   "cell_type": "markdown",
   "id": "4d5309e9",
   "metadata": {},
   "source": [
    "# 3. Customer profiling"
   ]
  },
  {
   "attachments": {
    "image-5.png": {
     "image/png": "[encoded data removed]"
    }
   },
   "cell_type": "markdown",
   "id": "fe6df733",
   "metadata": {},
   "source": [
    "## Create customer profiles\n",
    "\n",
    "![image-5.png](attachment:image-5.png)"
   ]
  },
  {
   "cell_type": "code",
   "execution_count": 19,
   "id": "b4826a68",
   "metadata": {
    "scrolled": true
   },
   "outputs": [
    {
     "data": {
      "text/plain": [
       "married                             21743711\n",
       "single                               5094410\n",
       "divorced/widowed                     2645271\n",
       "living with parents and siblings     1481172\n",
       "Name: fam_status, dtype: int64"
      ]
     },
     "execution_count": 19,
     "metadata": {},
     "output_type": "execute_result"
    }
   ],
   "source": [
    "# check categories and frequency of family status\n",
    "df['fam_status'].value_counts()"
   ]
  },
  {
   "cell_type": "code",
   "execution_count": 20,
   "id": "26d861f2",
   "metadata": {},
   "outputs": [
    {
     "data": {
      "text/plain": [
       "18"
      ]
     },
     "execution_count": 20,
     "metadata": {},
     "output_type": "execute_result"
    }
   ],
   "source": [
    "# check min age of users\n",
    "df['age'].min()"
   ]
  },
  {
   "cell_type": "code",
   "execution_count": 21,
   "id": "f9983279",
   "metadata": {},
   "outputs": [],
   "source": [
    "# Create the 'profile' column with a default value\n",
    "df['profile'] = \"other\""
   ]
  },
  {
   "cell_type": "code",
   "execution_count": 22,
   "id": "8c57dc87",
   "metadata": {},
   "outputs": [],
   "source": [
    "# Define profiles\n",
    "\n",
    "# Single young adult with dependents\n",
    "df.loc[(df['age'] < 40) & (df['n_dependants'] > 0) & \n",
    "             (df['fam_status'].isin(['single', 'living with parents and siblings'])), 'profile'] = 'single young adult with dependents'\n",
    "\n",
    "# Single young adult without dependents\n",
    "df.loc[(df['age'] >= 18) & (df['age'] < 40) & (df['n_dependants'] == 0) & \n",
    "             (df['fam_status'].isin(['single', 'living with parents and siblings'])), 'profile'] = 'single young adult without dependents'\n",
    "\n",
    "# Married young adult with dependents\n",
    "df.loc[(df['age'] >= 18) & (df['age'] < 40) & (df['n_dependants'] > 0) & \n",
    "             (df['fam_status'] == 'married'), 'profile'] = 'married young adult with dependents'\n",
    "\n",
    "# Married young adult without dependents\n",
    "df.loc[(df['age'] >= 18) & (df['age'] < 40) & (df['n_dependants'] == 0) & \n",
    "             (df['fam_status'] == 'married'), 'profile'] = 'married young adult without dependents'\n",
    "\n",
    "# Single middle aged adult with dependents\n",
    "df.loc[(df['age'] >= 40) & (df['age'] < 65) & (df['n_dependants'] > 0) & \n",
    "             (df['fam_status'].isin(['single', 'divorced/widowed'])), 'profile'] = 'single middle aged adult with dependents'\n",
    "\n",
    "# Single middle aged adult without dependents\n",
    "df.loc[(df['age'] >= 40) & (df['age'] < 65) & (df['n_dependants'] == 0) & \n",
    "             (df['fam_status'].isin(['single', 'divorced/widowed'])), 'profile'] = 'single middle aged adult without dependents'\n",
    "\n",
    "# Married middle aged adult with dependents\n",
    "df.loc[(df['age'] >= 40) & (df['age'] < 65) & (df['n_dependants'] > 0) & \n",
    "             (df['fam_status'] == 'married'), 'profile'] = 'married middle aged adult with dependents'\n",
    "\n",
    "# Married middle aged adult without df\n",
    "df.loc[(df['age'] >= 40) & (df['age'] < 65) & (df['n_dependants'] == 0) & \n",
    "             (df['fam_status'] == 'married'), 'profile'] = 'married middle aged adult without dependents'\n",
    "\n",
    "# Single older adult\n",
    "df.loc[(df['age'] >= 65) & \n",
    "             (df['fam_status'].isin(['single', 'divorced/widowed'])), 'profile'] = 'single older adult'\n",
    "\n",
    "# Married older adult\n",
    "df.loc[(df['age'] >= 65) & (df['fam_status'] == 'married'), 'profile'] = 'married older adult'\n"
   ]
  },
  {
   "cell_type": "markdown",
   "id": "236fac35",
   "metadata": {},
   "source": [
    "## Distribution of customer profile types"
   ]
  },
  {
   "cell_type": "code",
   "execution_count": 23,
   "id": "26fa96cb",
   "metadata": {
    "scrolled": true
   },
   "outputs": [
    {
     "data": {
      "text/plain": [
       "married middle aged adult with dependents      9046762\n",
       "married young adult with dependents            6523363\n",
       "married older adult                            6173586\n",
       "single middle aged adult without dependents    3057148\n",
       "single young adult without dependents          2660575\n",
       "single older adult                             2021958\n",
       "single young adult with dependents             1481172\n",
       "Name: profile, dtype: int64"
      ]
     },
     "execution_count": 23,
     "metadata": {},
     "output_type": "execute_result"
    }
   ],
   "source": [
    "# view frequency distribution of profile types as table\n",
    "df['profile'].value_counts()"
   ]
  },
  {
   "cell_type": "code",
   "execution_count": 24,
   "id": "18eb64a2",
   "metadata": {
    "scrolled": false
   },
   "outputs": [
    {
     "data": {
      "image/png": "[encoded data removed]",
      "text/plain": [
       "<Figure size 800x800 with 1 Axes>"
      ]
     },
     "metadata": {},
     "output_type": "display_data"
    }
   ],
   "source": [
    "# view frequency distribution of profile types as pie chart\n",
    "demographic_profile_chart = df['profile'].value_counts().plot.pie(\n",
    "                                    autopct='%1.1f%%',  # Display percentages on the chart\n",
    "                                    startangle=90,      # Start the pie chart at a specific angle\n",
    "                                    figsize=(8, 8),     # Adjust the figure size\n",
    "                                    legend=False        # Disable the legend\n",
    "                                )"
   ]
  },
  {
   "cell_type": "code",
   "execution_count": 25,
   "id": "08f05efe",
   "metadata": {},
   "outputs": [],
   "source": [
    "# Save the chart as a JPG\n",
    "demographic_profile_chart.figure.savefig(os.path.join(path, '04 Analysis','Visualizations', 'pie_dem_prof.jpg'))"
   ]
  },
  {
   "cell_type": "markdown",
   "id": "7f63aef8",
   "metadata": {},
   "source": [
    "##### Three customer profiles dominate ordering - married young adult with dependents, married middle aged adult with dependents, and married older adult. Marital status is the commonality between the categories and merits further analysis independent of the other demographic characteristics in next section, after exploring descriptive statistics for the current profiles."
   ]
  },
  {
   "cell_type": "markdown",
   "id": "ce98bc7a",
   "metadata": {},
   "source": [
    "### Descriptive statistics: Aggregate the max, mean, and min variables on a customer-profile level for usage frequency and expenditure."
   ]
  },
  {
   "cell_type": "markdown",
   "id": "b515fb8d",
   "metadata": {},
   "source": [
    "#### Usage frequency"
   ]
  },
  {
   "cell_type": "code",
   "execution_count": 26,
   "id": "7c68da30",
   "metadata": {
    "scrolled": false
   },
   "outputs": [
    {
     "data": {
      "text/plain": [
       "profile\n",
       "married middle aged adult with dependents      99\n",
       "married older adult                            99\n",
       "married young adult with dependents            99\n",
       "single middle aged adult without dependents    99\n",
       "single older adult                             99\n",
       "single young adult with dependents             99\n",
       "single young adult without dependents          99\n",
       "Name: max_order, dtype: int64"
      ]
     },
     "execution_count": 26,
     "metadata": {},
     "output_type": "execute_result"
    }
   ],
   "source": [
    "#Group by 'profile' and find the maximum order value\n",
    "df.groupby('profile')['max_order'].max()"
   ]
  },
  {
   "cell_type": "code",
   "execution_count": 27,
   "id": "03e0373b",
   "metadata": {
    "scrolled": false
   },
   "outputs": [
    {
     "data": {
      "text/plain": [
       "profile\n",
       "married middle aged adult with dependents      34.0\n",
       "married older adult                            34.0\n",
       "married young adult with dependents            35.0\n",
       "single middle aged adult without dependents    35.0\n",
       "single older adult                             34.0\n",
       "single young adult with dependents             35.0\n",
       "single young adult without dependents          34.0\n",
       "Name: max_order, dtype: float64"
      ]
     },
     "execution_count": 27,
     "metadata": {},
     "output_type": "execute_result"
    }
   ],
   "source": [
    "#Group by 'profile' and find the maximum order value\n",
    "df.groupby('profile')['max_order'].mean().round()"
   ]
  },
  {
   "cell_type": "code",
   "execution_count": 28,
   "id": "924ec11b",
   "metadata": {
    "scrolled": true
   },
   "outputs": [
    {
     "data": {
      "text/plain": [
       "profile\n",
       "married middle aged adult with dependents      5\n",
       "married older adult                            5\n",
       "married young adult with dependents            5\n",
       "single middle aged adult without dependents    5\n",
       "single older adult                             5\n",
       "single young adult with dependents             5\n",
       "single young adult without dependents          5\n",
       "Name: max_order, dtype: int64"
      ]
     },
     "execution_count": 28,
     "metadata": {},
     "output_type": "execute_result"
    }
   ],
   "source": [
    "#Group by 'profile' and find the maximum order value\n",
    "df.groupby('profile')['max_order'].min()"
   ]
  },
  {
   "cell_type": "markdown",
   "id": "21eac58d",
   "metadata": {},
   "source": [
    "#### Expenditure"
   ]
  },
  {
   "cell_type": "code",
   "execution_count": 29,
   "id": "33634d8a",
   "metadata": {
    "scrolled": false
   },
   "outputs": [
    {
     "data": {
      "text/plain": [
       "profile\n",
       "married middle aged adult with dependents       6983.59\n",
       "married older adult                             7414.49\n",
       "married young adult with dependents             5271.14\n",
       "single middle aged adult without dependents    15006.94\n",
       "single older adult                             14042.51\n",
       "single young adult with dependents             10209.99\n",
       "single young adult without dependents           8794.88\n",
       "Name: spending, dtype: float64"
      ]
     },
     "execution_count": 29,
     "metadata": {},
     "output_type": "execute_result"
    }
   ],
   "source": [
    "#Group by 'profile' and find the expenditure value\n",
    "df.groupby('profile')['spending'].max().round(2)"
   ]
  },
  {
   "cell_type": "code",
   "execution_count": 30,
   "id": "ba30a2d8",
   "metadata": {
    "scrolled": true
   },
   "outputs": [
    {
     "data": {
      "text/plain": [
       "profile\n",
       "married middle aged adult with dependents      11.82\n",
       "married older adult                            11.68\n",
       "married young adult with dependents            12.38\n",
       "single middle aged adult without dependents    12.33\n",
       "single older adult                             12.01\n",
       "single young adult with dependents             10.89\n",
       "single young adult without dependents          11.91\n",
       "Name: spending, dtype: float64"
      ]
     },
     "execution_count": 30,
     "metadata": {},
     "output_type": "execute_result"
    }
   ],
   "source": [
    "#Group by 'profile' and find the expenditure value\n",
    "df.groupby('profile')['spending'].mean().round(2)"
   ]
  },
  {
   "cell_type": "code",
   "execution_count": 31,
   "id": "3e9cd833",
   "metadata": {
    "scrolled": true
   },
   "outputs": [
    {
     "data": {
      "text/plain": [
       "profile\n",
       "married middle aged adult with dependents      1.50\n",
       "married older adult                            1.26\n",
       "married young adult with dependents            1.00\n",
       "single middle aged adult without dependents    1.00\n",
       "single older adult                             1.31\n",
       "single young adult with dependents             2.13\n",
       "single young adult without dependents          1.80\n",
       "Name: spending, dtype: float64"
      ]
     },
     "execution_count": 31,
     "metadata": {},
     "output_type": "execute_result"
    }
   ],
   "source": [
    "#Group by 'profile' and find the expenditure value\n",
    "df.groupby('profile')['spending'].min().round(2)"
   ]
  },
  {
   "cell_type": "markdown",
   "id": "aba91cce",
   "metadata": {},
   "source": [
    "## Create new profile - marital status"
   ]
  },
  {
   "cell_type": "markdown",
   "id": "686c7e54",
   "metadata": {},
   "source": [
    "#### Create boolean flag for marital status"
   ]
  },
  {
   "cell_type": "code",
   "execution_count": 32,
   "id": "9ae0c1df",
   "metadata": {},
   "outputs": [],
   "source": [
    "# Create the boolean flag with the new column name based on profile category\n",
    "df.loc[:, 'marital_status'] = df['profile'].str.contains('married', case=False, na=False)\n"
   ]
  },
  {
   "cell_type": "markdown",
   "id": "f8d769ea",
   "metadata": {},
   "source": [
    "#### View the results of the new profile"
   ]
  },
  {
   "cell_type": "code",
   "execution_count": 33,
   "id": "59dfa147",
   "metadata": {
    "scrolled": false
   },
   "outputs": [
    {
     "data": {
      "image/png": "[encoded data removed]",
      "text/plain": [
       "<Figure size 640x480 with 1 Axes>"
      ]
     },
     "metadata": {},
     "output_type": "display_data"
    }
   ],
   "source": [
    "# create a pie chart of marital status\n",
    "marital_status_chart = df['marital_status'].value_counts().plot.pie(\n",
    "    autopct='%1.1f%%',  # Format for percentages (1 decimal place)\n",
    "    labels=['Married', 'Not Married'],  # Custom labels for the slices\n",
    "    startangle=90,  # Rotate the pie chart for better alignment\n",
    "    legend=False\n",
    ")"
   ]
  },
  {
   "cell_type": "code",
   "execution_count": 34,
   "id": "056fda88",
   "metadata": {},
   "outputs": [],
   "source": [
    "# Save the chart as a JPG\n",
    "marital_status_chart.figure.savefig(os.path.join(path, '04 Analysis','Visualizations', 'pie_marital_status.jpg'))"
   ]
  },
  {
   "cell_type": "markdown",
   "id": "872b5aeb",
   "metadata": {},
   "source": [
    "##### 70% of Instacart orders were placed by a married customer. Further analysis of this category is performed in the following section, and may be helpful in determining the types of products and advertisement timing strategy."
   ]
  },
  {
   "cell_type": "markdown",
   "id": "44f020ea",
   "metadata": {},
   "source": [
    "### Explore marital status by region"
   ]
  },
  {
   "cell_type": "code",
   "execution_count": 35,
   "id": "0b1c89e2",
   "metadata": {},
   "outputs": [],
   "source": [
    "# create a crosstab with region and marital status\n",
    "regions_ct = pd.crosstab(\n",
    "    index = df['region'],\n",
    "    columns = df['marital_status']\n",
    ")"
   ]
  },
  {
   "cell_type": "code",
   "execution_count": 36,
   "id": "11126f19",
   "metadata": {
    "scrolled": false
   },
   "outputs": [
    {
     "data": {
      "text/plain": [
       "<matplotlib.legend.Legend at 0x1425e282e00>"
      ]
     },
     "execution_count": 36,
     "metadata": {},
     "output_type": "execute_result"
    },
    {
     "data": {
      "image/png": "[encoded data removed]",
      "text/plain": [
       "<Figure size 640x480 with 1 Axes>"
      ]
     },
     "metadata": {},
     "output_type": "display_data"
    }
   ],
   "source": [
    "# create a stacked bar chart of the regions crosstab\n",
    "regions_ct_chart = regions_ct.plot.bar(stacked=True)\n",
    "regions_ct_chart.legend(\n",
    "    ['Single', 'Married'],\n",
    "    loc='upper left',\n",
    "    bbox_to_anchor=(1, 1)\n",
    ")"
   ]
  },
  {
   "cell_type": "code",
   "execution_count": 75,
   "id": "b16d98f8",
   "metadata": {},
   "outputs": [],
   "source": [
    "# Save the chart as a JPG\n",
    "regions_ct_chart.figure.savefig(os.path.join(path, '04 Analysis','Visualizations', 'bar_region_mstatus.jpg'), bbox_inches='tight')"
   ]
  },
  {
   "cell_type": "markdown",
   "id": "7f9e9173",
   "metadata": {},
   "source": [
    "##### As seen above, there are no significant regional differences in the breakdown of orders by marital status. For all regions, marketing strategies can be similar for single and married customers."
   ]
  },
  {
   "cell_type": "markdown",
   "id": "9f84e14d",
   "metadata": {},
   "source": [
    "### Product choice by marital status"
   ]
  },
  {
   "cell_type": "code",
   "execution_count": 38,
   "id": "c27c0578",
   "metadata": {},
   "outputs": [],
   "source": [
    "# create crosstab with departments and profiles\n",
    "department_ct = pd.crosstab(\n",
    "    index = df['department_name'],\n",
    "    columns = df['marital_status']\n",
    ")"
   ]
  },
  {
   "cell_type": "code",
   "execution_count": 39,
   "id": "03383568",
   "metadata": {
    "scrolled": false
   },
   "outputs": [
    {
     "data": {
      "text/plain": [
       "<matplotlib.legend.Legend at 0x1425e1135e0>"
      ]
     },
     "execution_count": 39,
     "metadata": {},
     "output_type": "execute_result"
    },
    {
     "data": {
      "image/png": "[encoded data removed]",
      "text/plain": [
       "<Figure size 640x480 with 1 Axes>"
      ]
     },
     "metadata": {},
     "output_type": "display_data"
    }
   ],
   "source": [
    "# view department cross tab as bar chart\n",
    "department_ct_plot = department_ct.plot.bar(stacked=False)\n",
    "department_ct_plot.legend(\n",
    "    ['Single', 'Married'],\n",
    "    loc='upper left',\n",
    "    bbox_to_anchor=(1, 1)\n",
    ")"
   ]
  },
  {
   "cell_type": "code",
   "execution_count": 40,
   "id": "5a3b7ac6",
   "metadata": {},
   "outputs": [],
   "source": [
    "# Save the chart as a JPG\n",
    "department_ct_plot.figure.savefig(os.path.join(path, '04 Analysis','Visualizations', 'bar_department_ct.jpg'), bbox_inches='tight')"
   ]
  },
  {
   "cell_type": "markdown",
   "id": "f3fdab29",
   "metadata": {},
   "source": [
    "##### Produce, dairy/eggs, and beverages are the top three departments. Purchases by married users outnumber those by single users in all departments. As can be seen below, the percentage of purchases in each department made by married users is similar, ranging only from 68.7% to 71.2%."
   ]
  },
  {
   "cell_type": "markdown",
   "id": "4e9820b5",
   "metadata": {},
   "source": [
    "#### Calculate percent of purchases by department for married versus single users"
   ]
  },
  {
   "cell_type": "code",
   "execution_count": 41,
   "id": "c25aa30f",
   "metadata": {},
   "outputs": [],
   "source": [
    "# Add percentage where marital_status = True\n",
    "department_ct['percent_married'] = (department_ct[True] / department_ct.sum(axis=1)) * 100"
   ]
  },
  {
   "cell_type": "code",
   "execution_count": 42,
   "id": "a0b41087",
   "metadata": {
    "scrolled": false
   },
   "outputs": [
    {
     "data": {
      "text/html": [
       "<div>\n",
       "<style scoped>\n",
       "    .dataframe tbody tr th:only-of-type {\n",
       "        vertical-align: middle;\n",
       "    }\n",
       "\n",
       "    .dataframe tbody tr th {\n",
       "        vertical-align: top;\n",
       "    }\n",
       "\n",
       "    .dataframe thead th {\n",
       "        text-align: right;\n",
       "    }\n",
       "</style>\n",
       "<table border=\"1\" class=\"dataframe\">\n",
       "  <thead>\n",
       "    <tr style=\"text-align: right;\">\n",
       "      <th>marital_status</th>\n",
       "      <th>False</th>\n",
       "      <th>True</th>\n",
       "      <th>percent_married</th>\n",
       "    </tr>\n",
       "    <tr>\n",
       "      <th>department_name</th>\n",
       "      <th></th>\n",
       "      <th></th>\n",
       "      <th></th>\n",
       "    </tr>\n",
       "  </thead>\n",
       "  <tbody>\n",
       "    <tr>\n",
       "      <th>alcohol</th>\n",
       "      <td>45206</td>\n",
       "      <td>99421</td>\n",
       "      <td>68.743042</td>\n",
       "    </tr>\n",
       "    <tr>\n",
       "      <th>babies</th>\n",
       "      <td>122709</td>\n",
       "      <td>287683</td>\n",
       "      <td>70.099563</td>\n",
       "    </tr>\n",
       "    <tr>\n",
       "      <th>bakery</th>\n",
       "      <td>335079</td>\n",
       "      <td>785749</td>\n",
       "      <td>70.104334</td>\n",
       "    </tr>\n",
       "    <tr>\n",
       "      <th>beverages</th>\n",
       "      <td>764448</td>\n",
       "      <td>1807453</td>\n",
       "      <td>70.276927</td>\n",
       "    </tr>\n",
       "    <tr>\n",
       "      <th>breakfast</th>\n",
       "      <td>199630</td>\n",
       "      <td>471220</td>\n",
       "      <td>70.242230</td>\n",
       "    </tr>\n",
       "    <tr>\n",
       "      <th>bulk</th>\n",
       "      <td>9633</td>\n",
       "      <td>23818</td>\n",
       "      <td>71.202655</td>\n",
       "    </tr>\n",
       "    <tr>\n",
       "      <th>canned goods</th>\n",
       "      <td>299497</td>\n",
       "      <td>712577</td>\n",
       "      <td>70.407599</td>\n",
       "    </tr>\n",
       "    <tr>\n",
       "      <th>dairy eggs</th>\n",
       "      <td>1544583</td>\n",
       "      <td>3632599</td>\n",
       "      <td>70.165565</td>\n",
       "    </tr>\n",
       "    <tr>\n",
       "      <th>deli</th>\n",
       "      <td>301501</td>\n",
       "      <td>702333</td>\n",
       "      <td>69.965054</td>\n",
       "    </tr>\n",
       "    <tr>\n",
       "      <th>dry goods pasta</th>\n",
       "      <td>243838</td>\n",
       "      <td>578298</td>\n",
       "      <td>70.340917</td>\n",
       "    </tr>\n",
       "    <tr>\n",
       "      <th>frozen</th>\n",
       "      <td>632341</td>\n",
       "      <td>1489390</td>\n",
       "      <td>70.196929</td>\n",
       "    </tr>\n",
       "    <tr>\n",
       "      <th>household</th>\n",
       "      <td>204707</td>\n",
       "      <td>495150</td>\n",
       "      <td>70.750168</td>\n",
       "    </tr>\n",
       "    <tr>\n",
       "      <th>international</th>\n",
       "      <td>76855</td>\n",
       "      <td>179136</td>\n",
       "      <td>69.977460</td>\n",
       "    </tr>\n",
       "    <tr>\n",
       "      <th>meat seafood</th>\n",
       "      <td>198222</td>\n",
       "      <td>476559</td>\n",
       "      <td>70.624247</td>\n",
       "    </tr>\n",
       "    <tr>\n",
       "      <th>missing</th>\n",
       "      <td>19252</td>\n",
       "      <td>45516</td>\n",
       "      <td>70.275445</td>\n",
       "    </tr>\n",
       "    <tr>\n",
       "      <th>other</th>\n",
       "      <td>10529</td>\n",
       "      <td>23882</td>\n",
       "      <td>69.402226</td>\n",
       "    </tr>\n",
       "    <tr>\n",
       "      <th>pantry</th>\n",
       "      <td>529749</td>\n",
       "      <td>1252956</td>\n",
       "      <td>70.283979</td>\n",
       "    </tr>\n",
       "    <tr>\n",
       "      <th>personal care</th>\n",
       "      <td>126406</td>\n",
       "      <td>297900</td>\n",
       "      <td>70.208764</td>\n",
       "    </tr>\n",
       "    <tr>\n",
       "      <th>pets</th>\n",
       "      <td>28940</td>\n",
       "      <td>64120</td>\n",
       "      <td>68.901784</td>\n",
       "    </tr>\n",
       "    <tr>\n",
       "      <th>produce</th>\n",
       "      <td>2705980</td>\n",
       "      <td>6373293</td>\n",
       "      <td>70.196072</td>\n",
       "    </tr>\n",
       "    <tr>\n",
       "      <th>snacks</th>\n",
       "      <td>821748</td>\n",
       "      <td>1944658</td>\n",
       "      <td>70.295466</td>\n",
       "    </tr>\n",
       "  </tbody>\n",
       "</table>\n",
       "</div>"
      ],
      "text/plain": [
       "marital_status     False     True  percent_married\n",
       "department_name                                   \n",
       "alcohol            45206    99421        68.743042\n",
       "babies            122709   287683        70.099563\n",
       "bakery            335079   785749        70.104334\n",
       "beverages         764448  1807453        70.276927\n",
       "breakfast         199630   471220        70.242230\n",
       "bulk                9633    23818        71.202655\n",
       "canned goods      299497   712577        70.407599\n",
       "dairy eggs       1544583  3632599        70.165565\n",
       "deli              301501   702333        69.965054\n",
       "dry goods pasta   243838   578298        70.340917\n",
       "frozen            632341  1489390        70.196929\n",
       "household         204707   495150        70.750168\n",
       "international      76855   179136        69.977460\n",
       "meat seafood      198222   476559        70.624247\n",
       "missing            19252    45516        70.275445\n",
       "other              10529    23882        69.402226\n",
       "pantry            529749  1252956        70.283979\n",
       "personal care     126406   297900        70.208764\n",
       "pets               28940    64120        68.901784\n",
       "produce          2705980  6373293        70.196072\n",
       "snacks            821748  1944658        70.295466"
      ]
     },
     "execution_count": 42,
     "metadata": {},
     "output_type": "execute_result"
    }
   ],
   "source": [
    "# view department crosstab as table\n",
    "department_ct"
   ]
  },
  {
   "cell_type": "code",
   "execution_count": 43,
   "id": "9090ec1e",
   "metadata": {},
   "outputs": [
    {
     "data": {
      "text/plain": [
       "68.74304244712259"
      ]
     },
     "execution_count": 43,
     "metadata": {},
     "output_type": "execute_result"
    }
   ],
   "source": [
    "department_ct['percent_married'].min()"
   ]
  },
  {
   "cell_type": "code",
   "execution_count": 44,
   "id": "676cb0f6",
   "metadata": {},
   "outputs": [
    {
     "data": {
      "text/plain": [
       "71.20265462915907"
      ]
     },
     "execution_count": 44,
     "metadata": {},
     "output_type": "execute_result"
    }
   ],
   "source": [
    "department_ct['percent_married'].max()"
   ]
  },
  {
   "cell_type": "markdown",
   "id": "44a6cc47",
   "metadata": {},
   "source": [
    "##### Produce is a top seller for both married and single users. It may be useful to explore the timing of produce advertising specifically and regional differences."
   ]
  },
  {
   "cell_type": "markdown",
   "id": "4ad0e430",
   "metadata": {},
   "source": [
    "### Explore produce orders"
   ]
  },
  {
   "cell_type": "code",
   "execution_count": 45,
   "id": "94ea6305",
   "metadata": {},
   "outputs": [],
   "source": [
    "# Filter records for 'produce'\n",
    "produce_df = df[df['department_name'] == 'produce']"
   ]
  },
  {
   "cell_type": "markdown",
   "id": "11d4ed6c",
   "metadata": {},
   "source": [
    "### When is produce purchased (day of week and hour of day)?"
   ]
  },
  {
   "cell_type": "markdown",
   "id": "e58bad2c",
   "metadata": {},
   "source": [
    "#### Day of week"
   ]
  },
  {
   "cell_type": "code",
   "execution_count": 46,
   "id": "26ec1b36",
   "metadata": {},
   "outputs": [],
   "source": [
    "# generate a value count of orders for each day of the week\n",
    "dow_counts = produce_df['order_day_of_week'].value_counts()"
   ]
  },
  {
   "cell_type": "code",
   "execution_count": 47,
   "id": "5fe62002",
   "metadata": {
    "scrolled": false
   },
   "outputs": [],
   "source": [
    "# Map numeric days to day names to make chart easier to understand\n",
    "day_map = {0: 'Saturday', 1: 'Sunday', 2: 'Monday', 3: 'Tuesday', 4: 'Wednesday', 5: 'Thursday', 6: 'Friday'}\n",
    "\n",
    "# Convert the index (numeric days) to day names\n",
    "dow_counts = dow_counts.reset_index()  # Converts to DataFrame\n",
    "dow_counts.columns = ['order_day_of_week', 'order_count']\n",
    "dow_counts['day_name'] = dow_counts['order_day_of_week'].map(day_map)"
   ]
  },
  {
   "cell_type": "code",
   "execution_count": 48,
   "id": "d3f4808e",
   "metadata": {
    "scrolled": false
   },
   "outputs": [
    {
     "data": {
      "text/html": [
       "<div>\n",
       "<style scoped>\n",
       "    .dataframe tbody tr th:only-of-type {\n",
       "        vertical-align: middle;\n",
       "    }\n",
       "\n",
       "    .dataframe tbody tr th {\n",
       "        vertical-align: top;\n",
       "    }\n",
       "\n",
       "    .dataframe thead th {\n",
       "        text-align: right;\n",
       "    }\n",
       "</style>\n",
       "<table border=\"1\" class=\"dataframe\">\n",
       "  <thead>\n",
       "    <tr style=\"text-align: right;\">\n",
       "      <th></th>\n",
       "      <th>order_day_of_week</th>\n",
       "      <th>order_count</th>\n",
       "      <th>day_name</th>\n",
       "    </tr>\n",
       "  </thead>\n",
       "  <tbody>\n",
       "    <tr>\n",
       "      <th>0</th>\n",
       "      <td>0</td>\n",
       "      <td>1865181</td>\n",
       "      <td>Saturday</td>\n",
       "    </tr>\n",
       "    <tr>\n",
       "      <th>1</th>\n",
       "      <td>1</td>\n",
       "      <td>1612409</td>\n",
       "      <td>Sunday</td>\n",
       "    </tr>\n",
       "    <tr>\n",
       "      <th>2</th>\n",
       "      <td>6</td>\n",
       "      <td>1282339</td>\n",
       "      <td>Friday</td>\n",
       "    </tr>\n",
       "    <tr>\n",
       "      <th>3</th>\n",
       "      <td>2</td>\n",
       "      <td>1146996</td>\n",
       "      <td>Monday</td>\n",
       "    </tr>\n",
       "    <tr>\n",
       "      <th>4</th>\n",
       "      <td>5</td>\n",
       "      <td>1136699</td>\n",
       "      <td>Thursday</td>\n",
       "    </tr>\n",
       "    <tr>\n",
       "      <th>5</th>\n",
       "      <td>3</td>\n",
       "      <td>1024229</td>\n",
       "      <td>Tuesday</td>\n",
       "    </tr>\n",
       "    <tr>\n",
       "      <th>6</th>\n",
       "      <td>4</td>\n",
       "      <td>1011420</td>\n",
       "      <td>Wednesday</td>\n",
       "    </tr>\n",
       "  </tbody>\n",
       "</table>\n",
       "</div>"
      ],
      "text/plain": [
       "   order_day_of_week  order_count   day_name\n",
       "0                  0      1865181   Saturday\n",
       "1                  1      1612409     Sunday\n",
       "2                  6      1282339     Friday\n",
       "3                  2      1146996     Monday\n",
       "4                  5      1136699   Thursday\n",
       "5                  3      1024229    Tuesday\n",
       "6                  4      1011420  Wednesday"
      ]
     },
     "execution_count": 48,
     "metadata": {},
     "output_type": "execute_result"
    }
   ],
   "source": [
    "# view day of week frequency counts as table\n",
    "dow_counts"
   ]
  },
  {
   "cell_type": "code",
   "execution_count": 49,
   "id": "4c5a2b32",
   "metadata": {
    "scrolled": false
   },
   "outputs": [
    {
     "data": {
      "image/png": "[encoded data removed]",
      "text/plain": [
       "<Figure size 640x480 with 1 Axes>"
      ]
     },
     "metadata": {},
     "output_type": "display_data"
    }
   ],
   "source": [
    "# view day of week frequency counts as bar chart\n",
    "dow_counts_bar = dow_counts.plot.bar(x='day_name', y='order_count')"
   ]
  },
  {
   "cell_type": "code",
   "execution_count": 50,
   "id": "27b90e04",
   "metadata": {},
   "outputs": [
    {
     "data": {
      "text/plain": [
       "<Figure size 640x480 with 0 Axes>"
      ]
     },
     "metadata": {},
     "output_type": "display_data"
    }
   ],
   "source": [
    "# Adjust layout\n",
    "plt.tight_layout()\n",
    "\n",
    "# Save the chart as a JPG\n",
    "dow_counts_bar.figure.savefig(os.path.join(path, '04 Analysis','Visualizations', 'bar_dow_counts.jpg'), bbox_inches='tight')"
   ]
  },
  {
   "cell_type": "markdown",
   "id": "17c5e2ca",
   "metadata": {},
   "source": [
    "#### Hour of day"
   ]
  },
  {
   "cell_type": "code",
   "execution_count": 51,
   "id": "0400ad34",
   "metadata": {},
   "outputs": [],
   "source": [
    "# generate a value count of orders for each hour of the day\n",
    "hod_counts = produce_df['order_hour_of_day'].value_counts()"
   ]
  },
  {
   "cell_type": "code",
   "execution_count": 52,
   "id": "4538143f",
   "metadata": {
    "scrolled": true
   },
   "outputs": [],
   "source": [
    "# convert frequency table to dataframe\n",
    "hod_counts = hod_counts.reset_index()\n",
    "hod_counts.columns = ['order_hour_of_day', 'order_count']"
   ]
  },
  {
   "cell_type": "code",
   "execution_count": 53,
   "id": "24bb5cbb",
   "metadata": {
    "scrolled": false
   },
   "outputs": [
    {
     "data": {
      "text/html": [
       "<div>\n",
       "<style scoped>\n",
       "    .dataframe tbody tr th:only-of-type {\n",
       "        vertical-align: middle;\n",
       "    }\n",
       "\n",
       "    .dataframe tbody tr th {\n",
       "        vertical-align: top;\n",
       "    }\n",
       "\n",
       "    .dataframe thead th {\n",
       "        text-align: right;\n",
       "    }\n",
       "</style>\n",
       "<table border=\"1\" class=\"dataframe\">\n",
       "  <thead>\n",
       "    <tr style=\"text-align: right;\">\n",
       "      <th></th>\n",
       "      <th>order_hour_of_day</th>\n",
       "      <th>order_count</th>\n",
       "    </tr>\n",
       "  </thead>\n",
       "  <tbody>\n",
       "    <tr>\n",
       "      <th>0</th>\n",
       "      <td>10</td>\n",
       "      <td>769161</td>\n",
       "    </tr>\n",
       "    <tr>\n",
       "      <th>1</th>\n",
       "      <td>11</td>\n",
       "      <td>762072</td>\n",
       "    </tr>\n",
       "    <tr>\n",
       "      <th>2</th>\n",
       "      <td>14</td>\n",
       "      <td>752732</td>\n",
       "    </tr>\n",
       "    <tr>\n",
       "      <th>3</th>\n",
       "      <td>13</td>\n",
       "      <td>745178</td>\n",
       "    </tr>\n",
       "    <tr>\n",
       "      <th>4</th>\n",
       "      <td>15</td>\n",
       "      <td>741277</td>\n",
       "    </tr>\n",
       "    <tr>\n",
       "      <th>5</th>\n",
       "      <td>12</td>\n",
       "      <td>734100</td>\n",
       "    </tr>\n",
       "    <tr>\n",
       "      <th>6</th>\n",
       "      <td>16</td>\n",
       "      <td>701558</td>\n",
       "    </tr>\n",
       "    <tr>\n",
       "      <th>7</th>\n",
       "      <td>9</td>\n",
       "      <td>688956</td>\n",
       "    </tr>\n",
       "    <tr>\n",
       "      <th>8</th>\n",
       "      <td>17</td>\n",
       "      <td>565626</td>\n",
       "    </tr>\n",
       "    <tr>\n",
       "      <th>9</th>\n",
       "      <td>8</td>\n",
       "      <td>494234</td>\n",
       "    </tr>\n",
       "    <tr>\n",
       "      <th>10</th>\n",
       "      <td>18</td>\n",
       "      <td>439144</td>\n",
       "    </tr>\n",
       "    <tr>\n",
       "      <th>11</th>\n",
       "      <td>19</td>\n",
       "      <td>338476</td>\n",
       "    </tr>\n",
       "    <tr>\n",
       "      <th>12</th>\n",
       "      <td>20</td>\n",
       "      <td>275542</td>\n",
       "    </tr>\n",
       "    <tr>\n",
       "      <th>13</th>\n",
       "      <td>7</td>\n",
       "      <td>260886</td>\n",
       "    </tr>\n",
       "    <tr>\n",
       "      <th>14</th>\n",
       "      <td>21</td>\n",
       "      <td>238470</td>\n",
       "    </tr>\n",
       "    <tr>\n",
       "      <th>15</th>\n",
       "      <td>22</td>\n",
       "      <td>194170</td>\n",
       "    </tr>\n",
       "    <tr>\n",
       "      <th>16</th>\n",
       "      <td>23</td>\n",
       "      <td>121321</td>\n",
       "    </tr>\n",
       "    <tr>\n",
       "      <th>17</th>\n",
       "      <td>6</td>\n",
       "      <td>84649</td>\n",
       "    </tr>\n",
       "    <tr>\n",
       "      <th>18</th>\n",
       "      <td>0</td>\n",
       "      <td>65073</td>\n",
       "    </tr>\n",
       "    <tr>\n",
       "      <th>19</th>\n",
       "      <td>1</td>\n",
       "      <td>33345</td>\n",
       "    </tr>\n",
       "    <tr>\n",
       "      <th>20</th>\n",
       "      <td>5</td>\n",
       "      <td>25924</td>\n",
       "    </tr>\n",
       "    <tr>\n",
       "      <th>21</th>\n",
       "      <td>2</td>\n",
       "      <td>18986</td>\n",
       "    </tr>\n",
       "    <tr>\n",
       "      <th>22</th>\n",
       "      <td>4</td>\n",
       "      <td>14664</td>\n",
       "    </tr>\n",
       "    <tr>\n",
       "      <th>23</th>\n",
       "      <td>3</td>\n",
       "      <td>13729</td>\n",
       "    </tr>\n",
       "  </tbody>\n",
       "</table>\n",
       "</div>"
      ],
      "text/plain": [
       "    order_hour_of_day  order_count\n",
       "0                  10       769161\n",
       "1                  11       762072\n",
       "2                  14       752732\n",
       "3                  13       745178\n",
       "4                  15       741277\n",
       "5                  12       734100\n",
       "6                  16       701558\n",
       "7                   9       688956\n",
       "8                  17       565626\n",
       "9                   8       494234\n",
       "10                 18       439144\n",
       "11                 19       338476\n",
       "12                 20       275542\n",
       "13                  7       260886\n",
       "14                 21       238470\n",
       "15                 22       194170\n",
       "16                 23       121321\n",
       "17                  6        84649\n",
       "18                  0        65073\n",
       "19                  1        33345\n",
       "20                  5        25924\n",
       "21                  2        18986\n",
       "22                  4        14664\n",
       "23                  3        13729"
      ]
     },
     "execution_count": 53,
     "metadata": {},
     "output_type": "execute_result"
    }
   ],
   "source": [
    "# view hour of day frequency counts as table\n",
    "hod_counts"
   ]
  },
  {
   "cell_type": "code",
   "execution_count": 54,
   "id": "8d7d5982",
   "metadata": {},
   "outputs": [],
   "source": [
    "# Sort by hour of day (x-axis) for visualization\n",
    "hod_counts = hod_counts.sort_values(by='order_hour_of_day')"
   ]
  },
  {
   "cell_type": "code",
   "execution_count": 55,
   "id": "3366f6f8",
   "metadata": {
    "scrolled": false
   },
   "outputs": [
    {
     "data": {
      "image/png": "[encoded data removed]",
      "text/plain": [
       "<Figure size 640x480 with 1 Axes>"
      ]
     },
     "metadata": {},
     "output_type": "display_data"
    }
   ],
   "source": [
    "# view hour of day frequency counts as bar chart\n",
    "hod_counts_bar = hod_counts.plot.bar(x='order_hour_of_day', y='order_count')"
   ]
  },
  {
   "cell_type": "code",
   "execution_count": 56,
   "id": "6d73e849",
   "metadata": {},
   "outputs": [],
   "source": [
    "# Save the chart as a JPG\n",
    "hod_counts_bar.figure.savefig(os.path.join(path, '04 Analysis','Visualizations', 'bar_hod_counts.jpg'))"
   ]
  },
  {
   "cell_type": "code",
   "execution_count": 57,
   "id": "2b6843cd",
   "metadata": {},
   "outputs": [
    {
     "data": {
      "image/png": "[encoded data removed]",
      "text/plain": [
       "<Figure size 640x480 with 1 Axes>"
      ]
     },
     "metadata": {},
     "output_type": "display_data"
    }
   ],
   "source": [
    "# create a histogram of prices column\n",
    "hist_hour = df['order_hour_of_day'].plot.hist(bins = 24)"
   ]
  },
  {
   "cell_type": "code",
   "execution_count": null,
   "id": "a2acabb4",
   "metadata": {},
   "outputs": [],
   "source": []
  },
  {
   "cell_type": "code",
   "execution_count": null,
   "id": "65a32598",
   "metadata": {},
   "outputs": [],
   "source": []
  },
  {
   "cell_type": "markdown",
   "id": "b6010b90",
   "metadata": {},
   "source": [
    "### Are there differences in the timing of produce purchases for single users versus married users?"
   ]
  },
  {
   "cell_type": "markdown",
   "id": "78ad6950",
   "metadata": {},
   "source": [
    "#### Day of week"
   ]
  },
  {
   "cell_type": "code",
   "execution_count": 58,
   "id": "2e1b5f0a",
   "metadata": {},
   "outputs": [],
   "source": [
    "# create crosstab of order day of week and marital status\n",
    "dow_mstatus_ct = pd.crosstab(\n",
    "    index = produce_df['order_day_of_week'],\n",
    "    columns = produce_df['marital_status']\n",
    ")"
   ]
  },
  {
   "cell_type": "code",
   "execution_count": 59,
   "id": "10849502",
   "metadata": {
    "scrolled": false
   },
   "outputs": [
    {
     "data": {
      "image/png": "[encoded data removed]",
      "text/plain": [
       "<Figure size 640x480 with 1 Axes>"
      ]
     },
     "metadata": {},
     "output_type": "display_data"
    }
   ],
   "source": [
    "# view crosstab as bar chart\n",
    "dow_mstatus_bar = dow_mstatus_ct.plot.bar(stacked=False)"
   ]
  },
  {
   "cell_type": "code",
   "execution_count": 60,
   "id": "19980d29",
   "metadata": {},
   "outputs": [],
   "source": [
    "# Save the chart as a JPG\n",
    "dow_mstatus_bar.figure.savefig(os.path.join(path, '04 Analysis','Visualizations', 'bar_dow_mstatus.jpg'))"
   ]
  },
  {
   "cell_type": "markdown",
   "id": "9e378809",
   "metadata": {},
   "source": [
    "#### Hour of day"
   ]
  },
  {
   "cell_type": "code",
   "execution_count": 61,
   "id": "f5c47cf0",
   "metadata": {},
   "outputs": [],
   "source": [
    "# create a crosstab of order hour of day and marital status\n",
    "hod_mstatus_ct = pd.crosstab(\n",
    "    index = produce_df['order_hour_of_day'],\n",
    "    columns = produce_df['marital_status']\n",
    ")"
   ]
  },
  {
   "cell_type": "code",
   "execution_count": 62,
   "id": "2c96d21d",
   "metadata": {
    "scrolled": false
   },
   "outputs": [
    {
     "data": {
      "image/png": "[encoded data removed]",
      "text/plain": [
       "<Figure size 640x480 with 1 Axes>"
      ]
     },
     "metadata": {},
     "output_type": "display_data"
    }
   ],
   "source": [
    "# view crosstab as bar chart\n",
    "hod_mstatus_bar = hod_mstatus_ct.plot.bar(stacked=False)"
   ]
  },
  {
   "cell_type": "code",
   "execution_count": 63,
   "id": "9b3428e8",
   "metadata": {},
   "outputs": [],
   "source": [
    "# Save the chart as a JPG\n",
    "hod_mstatus_bar.figure.savefig(os.path.join(path, '04 Analysis','Visualizations', 'bar_hod_mstatus.jpg'))"
   ]
  },
  {
   "cell_type": "markdown",
   "id": "014e1ae4",
   "metadata": {},
   "source": [
    "##### For both married and single users, the timing of produce purchases follows a similar pattern. The marketing strategy in regard to advertisement timing can be similar for both demographic groups."
   ]
  },
  {
   "cell_type": "markdown",
   "id": "8f20ee06",
   "metadata": {},
   "source": [
    "### Are there regional differences in produce purchases?"
   ]
  },
  {
   "cell_type": "code",
   "execution_count": 64,
   "id": "94664e2c",
   "metadata": {},
   "outputs": [],
   "source": [
    "# create a frequency table for produce order counts by region\n",
    "region_produce_counts = produce_df['region'].value_counts()"
   ]
  },
  {
   "cell_type": "code",
   "execution_count": 65,
   "id": "012e68a0",
   "metadata": {
    "scrolled": false
   },
   "outputs": [
    {
     "data": {
      "image/png": "[encoded data removed]",
      "text/plain": [
       "<Figure size 640x480 with 1 Axes>"
      ]
     },
     "metadata": {},
     "output_type": "display_data"
    }
   ],
   "source": [
    "# plot regional value counts\n",
    "region_produce_bar = region_produce_counts.plot.pie(\n",
    "    autopct='%1.1f%%',  # Format for percentages (1 decimal place)\n",
    "    startangle=90,  # Rotate the pie chart for better alignment\n",
    "    legend=False\n",
    ")"
   ]
  },
  {
   "cell_type": "markdown",
   "id": "05ada41a",
   "metadata": {},
   "source": [
    "##### Produce sales are strongest in the South and weakest in the Northeast, consistent with total sales of all products."
   ]
  },
  {
   "cell_type": "code",
   "execution_count": 66,
   "id": "7d4856a0",
   "metadata": {},
   "outputs": [],
   "source": [
    "# Save the chart as a JPG\n",
    "region_produce_bar.figure.savefig(os.path.join(path, '04 Analysis','Visualizations', 'bar_region_produce.jpg'))"
   ]
  },
  {
   "cell_type": "markdown",
   "id": "d4932ee4",
   "metadata": {},
   "source": [
    "# 4. Compare customer profiles and brand loyalty\n"
   ]
  },
  {
   "cell_type": "markdown",
   "id": "3f297ae6",
   "metadata": {},
   "source": [
    "### Loyalty and frequency of ordering"
   ]
  },
  {
   "cell_type": "code",
   "execution_count": 67,
   "id": "ea6ec11d",
   "metadata": {
    "scrolled": true
   },
   "outputs": [
    {
     "data": {
      "text/plain": [
       "Regular customer    15876776\n",
       "Loyal customer      10284093\n",
       "New customer         4803695\n",
       "Name: loyalty_flag, dtype: int64"
      ]
     },
     "execution_count": 67,
     "metadata": {},
     "output_type": "execute_result"
    }
   ],
   "source": [
    "# show distribution of loyalty status\n",
    "df['loyalty_flag'].value_counts()"
   ]
  },
  {
   "cell_type": "code",
   "execution_count": 68,
   "id": "db122d5a",
   "metadata": {
    "scrolled": false
   },
   "outputs": [
    {
     "data": {
      "image/png": "[encoded data removed]",
      "text/plain": [
       "<Figure size 1000x600 with 1 Axes>"
      ]
     },
     "metadata": {},
     "output_type": "display_data"
    }
   ],
   "source": [
    "# analyze differences in ordering habits based on loyalty status\n",
    "\n",
    "# Grouping and counting\n",
    "grouped = df.groupby('loyalty_flag')['days_since_prior_order'].median()\n",
    "\n",
    "# Plotting\n",
    "plt.figure(figsize=(10, 6))\n",
    "grouped.plot(kind='bar', stacked=True)\n",
    "plt.title('Days Since Prior Order (Median) by Loyalty Flag')\n",
    "plt.ylabel('Days Since Prior Order')\n",
    "plt.xlabel('Loyalty Flag')\n",
    "plt.xticks(rotation=0)\n",
    "plt.show()"
   ]
  },
  {
   "cell_type": "markdown",
   "id": "408864b6",
   "metadata": {},
   "source": [
    "##### Note: Loyal customers have, on average, fewer days between their orders than regular or new customers, meaning that they are placing orders more frequently in addition to placing more orders overall. This can be further illustrated by comparing the loyalty status with the customer's frequency status, which is derived from the median of the days since prior order value. As can be seen below, all loyal customers are also frequent customers."
   ]
  },
  {
   "cell_type": "code",
   "execution_count": 69,
   "id": "e612797e",
   "metadata": {},
   "outputs": [],
   "source": [
    "# create crosstab of loyalty flag and frequency flag\n",
    "freq_loyalty_ct = pd.crosstab(\n",
    "    index = df['loyalty_flag'],\n",
    "    columns = df['frequency_flag']\n",
    ")"
   ]
  },
  {
   "cell_type": "code",
   "execution_count": 70,
   "id": "bc096263",
   "metadata": {
    "scrolled": false
   },
   "outputs": [
    {
     "data": {
      "image/png": "[encoded data removed]",
      "text/plain": [
       "<Figure size 640x480 with 1 Axes>"
      ]
     },
     "metadata": {},
     "output_type": "display_data"
    }
   ],
   "source": [
    "# view crosstab as bar chart\n",
    "freq_loyalty_bar = freq_loyalty_ct.plot.bar()"
   ]
  },
  {
   "cell_type": "code",
   "execution_count": 71,
   "id": "7dfeee05",
   "metadata": {},
   "outputs": [],
   "source": [
    "# Save the chart as a JPG\n",
    "freq_loyalty_bar.figure.savefig(os.path.join(path, '04 Analysis','Visualizations', 'bar_freq_loyalty.jpg'), bbox_inches='tight')"
   ]
  },
  {
   "cell_type": "markdown",
   "id": "0625b792",
   "metadata": {},
   "source": [
    "### Frequent customer product preferences"
   ]
  },
  {
   "cell_type": "code",
   "execution_count": 72,
   "id": "21d7eb68",
   "metadata": {},
   "outputs": [],
   "source": [
    "# create crosstab with department and frequency flag\n",
    "freq_dept_ct = pd.crosstab(\n",
    "    index = df['department_name'],\n",
    "    columns = df['frequency_flag']\n",
    ")"
   ]
  },
  {
   "cell_type": "code",
   "execution_count": 73,
   "id": "6e7662bf",
   "metadata": {},
   "outputs": [
    {
     "data": {
      "image/png": "[encoded data removed]",
      "text/plain": [
       "<Figure size 640x480 with 1 Axes>"
      ]
     },
     "metadata": {},
     "output_type": "display_data"
    }
   ],
   "source": [
    "# view crosstab as bar chart\n",
    "freq_dept_bar = freq_dept_ct.plot.bar()"
   ]
  },
  {
   "cell_type": "code",
   "execution_count": 74,
   "id": "7ab14446",
   "metadata": {},
   "outputs": [],
   "source": [
    "# Save the chart as a JPG\n",
    "freq_dept_bar.figure.savefig(os.path.join(path, '04 Analysis','Visualizations', 'bar_freq_dept.jpg'), bbox_inches='tight')"
   ]
  },
  {
   "cell_type": "markdown",
   "id": "703b71f6",
   "metadata": {},
   "source": [
    "##### Customers who make frequent orders favor certain product types, like fresh items (produce, dairy/eggs). This makes good sense, since these items have a shorter shelf life and often require cold storage. It might be beneficial to advertise perishable items such as fresh produce and milk to those customers who order frequently. Non-frequent and regular customers may also be targeted with advertisements for these items, as building a habit of purchasing perishables may increase their ordering frequency. Loyal, frequent customers may appreciate advertisements for sales of items in these departments."
   ]
  },
  {
   "cell_type": "code",
   "execution_count": null,
   "id": "38978a1a",
   "metadata": {},
   "outputs": [],
   "source": []
  }
 ],
 "metadata": {
  "kernelspec": {
   "display_name": "Python 3 (ipykernel)",
   "language": "python",
   "name": "python3"
  },
  "language_info": {
   "codemirror_mode": {
    "name": "ipython",
    "version": 3
   },
   "file_extension": ".py",
   "mimetype": "text/x-python",
   "name": "python",
   "nbconvert_exporter": "python",
   "pygments_lexer": "ipython3",
   "version": "3.10.9"
  }
 },
 "nbformat": 4,
 "nbformat_minor": 5
}
